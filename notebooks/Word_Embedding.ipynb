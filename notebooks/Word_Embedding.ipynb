{
 "cells": [
  {
   "cell_type": "code",
   "execution_count": null,
   "id": "36b30fe0",
   "metadata": {},
   "outputs": [],
   "source": [
    "using Pkg\n",
    "Pkg.add(\"Plots\")\n",
    "Pkg.add(\"Languages\")\n",
    "Pkg.add(\"DataFrames\")\n",
    "Pkg.add(\"CSV\")\n",
    "Pkg.add(\"Query\")\n",
    "Pkg.add(\"LightGraphs\")\n",
    "# conda install -c conda-forge flann \n",
    "# Pkg.add(\"SGtSNEpi\")\n",
    "Pkg.add(\"StatsBase\")\n",
    "Pkg.add(\"Compose\")\n",
    "Pkg.add(\"GraphPlot\")"
   ]
  },
  {
   "cell_type": "markdown",
   "id": "eb639d3c",
   "metadata": {},
   "source": [
    "# Lets see if we can identify duplicate or related projects\n",
    "\n",
    "I.e. \"Alberta\" and \"Government of Alberta\" are the same thing."
   ]
  },
  {
   "cell_type": "code",
   "execution_count": null,
   "id": "5e38036a",
   "metadata": {},
   "outputs": [],
   "source": [
    "using Languages\n",
    "using DataFrames\n",
    "using CSV\n",
    "using Query\n",
    "using SparseArrays\n",
    "\n",
    "df = CSV.read(\"../SAMPLE-ESTMA-data.csv\", DataFrame)\n",
    "\n",
    "eng_articles = articles(Languages.English())\n",
    "eng_stops = stopwords(Languages.English())\n",
    "simple_filter(x) = !(x in eng_stops || x in eng_articles)"
   ]
  },
  {
   "cell_type": "code",
   "execution_count": null,
   "id": "c96d4a91",
   "metadata": {},
   "outputs": [],
   "source": [
    "ENV[\"COLUMNS\"] = 400\n",
    "first(df, 5)"
   ]
  },
  {
   "cell_type": "code",
   "execution_count": null,
   "id": "0ddda79e",
   "metadata": {},
   "outputs": [],
   "source": [
    "payees_or_projects = unique(df.payee_project_name)"
   ]
  },
  {
   "cell_type": "code",
   "execution_count": null,
   "id": "4bb8482c",
   "metadata": {},
   "outputs": [],
   "source": [
    "# Vectorize and remove articles\n",
    "vectorized_names = payees_or_projects .|> \n",
    "        lowercase .|> \n",
    "        split .|> \n",
    "        (x -> filter(simple_filter, x))"
   ]
  },
  {
   "cell_type": "code",
   "execution_count": null,
   "id": "b6067199",
   "metadata": {},
   "outputs": [],
   "source": [
    "aliases_df = DataFrame(orig = payees_or_projects, vectorized = vectorized_names)"
   ]
  },
  {
   "cell_type": "code",
   "execution_count": null,
   "id": "7f130036",
   "metadata": {},
   "outputs": [],
   "source": [
    "length(aliases_df.vectorized) - length(unique(aliases_df.vectorized))"
   ]
  },
  {
   "cell_type": "markdown",
   "id": "0cf2d004",
   "metadata": {},
   "source": [
    "### Note: already identified 200 likely duplicates here after removing articles and lowercasing"
   ]
  },
  {
   "cell_type": "code",
   "execution_count": null,
   "id": "0f924909",
   "metadata": {},
   "outputs": [],
   "source": [
    "first_aliases = aliases_df |>\n",
    "    @groupby(_.vectorized) |>\n",
    "    @filter(x -> length(x) > 1) |>\n",
    "    @map(x -> [y.orig for y in x]) |>\n",
    "    collect\n"
   ]
  },
  {
   "cell_type": "code",
   "execution_count": null,
   "id": "09ade066",
   "metadata": {},
   "outputs": [],
   "source": [
    "length(collect(Iterators.flatten(first_aliases)))"
   ]
  },
  {
   "cell_type": "markdown",
   "id": "9c1b4cea",
   "metadata": {},
   "source": [
    "# Let's see if we can identify more duplicates"
   ]
  },
  {
   "cell_type": "code",
   "execution_count": null,
   "id": "2d8828c2",
   "metadata": {},
   "outputs": [],
   "source": [
    "# Count the common number of words\n",
    "counts(a, b) = length(intersect(a,b))\n",
    "\n",
    "vnames = unique(aliases_df.vectorized)"
   ]
  },
  {
   "cell_type": "code",
   "execution_count": null,
   "id": "9d9ea39e",
   "metadata": {},
   "outputs": [],
   "source": [
    "@time begin\n",
    "\n",
    "width = length(vnames)\n",
    "\n",
    "m = zeros(Int64, (width, width))\n",
    "\n",
    "# Symmetric matrix and skip the diagonal\n",
    "# Still 32000000 entries!!!\n",
    "for i in 1:width\n",
    "    for j in (i+1):width\n",
    "        val = counts(vnames[i], vnames[j])\n",
    "        val == 0 && continue # skip array allocation if no overlap\n",
    "        m[i,j] = m[j,i] = val\n",
    "    end\n",
    "end\n",
    "# [counts(a,b) for a in vectorized_names, b in vectorized_names]\n",
    "\n",
    "end"
   ]
  },
  {
   "cell_type": "code",
   "execution_count": null,
   "id": "43d964ff",
   "metadata": {},
   "outputs": [],
   "source": [
    "m"
   ]
  },
  {
   "cell_type": "code",
   "execution_count": null,
   "id": "ee7eecbc",
   "metadata": {},
   "outputs": [],
   "source": [
    "# Are there any with no neighbors?\n",
    "count = 0\n",
    "for i in 1:width\n",
    "    if max(m[:,1]...) == 0\n",
    "        count += 1\n",
    "    end\n",
    "end"
   ]
  },
  {
   "cell_type": "code",
   "execution_count": null,
   "id": "7c24649a",
   "metadata": {},
   "outputs": [],
   "source": [
    "count"
   ]
  },
  {
   "cell_type": "markdown",
   "id": "6a55d7de",
   "metadata": {},
   "source": [
    "## Very high connectivity!\n",
    "\n",
    "All the rows are connected to at least one neighbour. Let's see how many neighbours"
   ]
  },
  {
   "cell_type": "code",
   "execution_count": null,
   "id": "fced51b1",
   "metadata": {},
   "outputs": [],
   "source": [
    "adjacent(i; v=vnames, m=m) = v[i] => getindex(v, findall(m[:,i] .> 0))"
   ]
  },
  {
   "cell_type": "code",
   "execution_count": null,
   "id": "7e8e6288",
   "metadata": {},
   "outputs": [],
   "source": [
    "last(adjacent(1))"
   ]
  },
  {
   "cell_type": "code",
   "execution_count": null,
   "id": "71946628",
   "metadata": {},
   "outputs": [],
   "source": [
    "first(adjacent(1))"
   ]
  },
  {
   "cell_type": "markdown",
   "id": "4cf767db",
   "metadata": {},
   "source": [
    "### Ahah! It's a few words (in this case \"mining\") which are super prevalent.\n",
    "\n",
    "Let's plot a histogram of the terms, and remove some big ones to make this graph sparser. Like an ad-hoc [TF-IDF](https://en.wikipedia.org/wiki/Tf%E2%80%93idf)"
   ]
  },
  {
   "cell_type": "code",
   "execution_count": null,
   "id": "203eeaf9",
   "metadata": {},
   "outputs": [],
   "source": [
    "using Plots\n",
    "using StatsBase"
   ]
  },
  {
   "cell_type": "code",
   "execution_count": null,
   "id": "d7a12c86",
   "metadata": {},
   "outputs": [],
   "source": [
    "all_words = collect(Iterators.flatten(vectorized_names))"
   ]
  },
  {
   "cell_type": "code",
   "execution_count": null,
   "id": "37cf6c6f",
   "metadata": {},
   "outputs": [],
   "source": [
    "plot(countmap(all_words))"
   ]
  },
  {
   "cell_type": "code",
   "execution_count": null,
   "id": "eddea557",
   "metadata": {},
   "outputs": [],
   "source": [
    "sorted_counts = sort(collect(countmap(all_words)), by=last)\n",
    "\n",
    "our_words = sorted_counts .|> first\n",
    "our_counts = sorted_counts .|> last\n",
    "\n",
    "plot(our_words, our_counts)"
   ]
  },
  {
   "cell_type": "markdown",
   "id": "352e5d5e",
   "metadata": {},
   "source": [
    "### A few very common words\n",
    "\n",
    "This makes sense! Lets see what they are"
   ]
  },
  {
   "cell_type": "code",
   "execution_count": null,
   "id": "eda0e75c",
   "metadata": {},
   "outputs": [],
   "source": [
    "word_counts = countmap(all_words)"
   ]
  },
  {
   "cell_type": "code",
   "execution_count": null,
   "id": "e0853800",
   "metadata": {},
   "outputs": [],
   "source": [
    "filter(x -> last(x) > 100, word_counts)"
   ]
  },
  {
   "cell_type": "markdown",
   "id": "7348d144",
   "metadata": {},
   "source": [
    "### Great! We can remove some of these.\n",
    "\n",
    "Some have semantic meaning (e.g. Alberta), but others, `-` or `municipal`, for instance, do not really contribute too much. We will filter them out and we should be left with a much sparser graph."
   ]
  },
  {
   "cell_type": "code",
   "execution_count": null,
   "id": "04b84aad",
   "metadata": {},
   "outputs": [],
   "source": [
    "removable = filter(x -> last(x) > 100, word_counts) |> keys |> collect\n",
    "\n",
    "# Only alberta seems important in this list\n",
    "deleteat!(removable, removable .== \"alberta\")"
   ]
  },
  {
   "cell_type": "code",
   "execution_count": null,
   "id": "6826f7bf",
   "metadata": {},
   "outputs": [],
   "source": [
    "filtered_vectorized_names = vectorized_names .|> \n",
    "    (y -> filter(x -> !(x in removable), y))\n",
    "\n",
    "aliases_df.filtered = filtered_vectorized_names"
   ]
  },
  {
   "cell_type": "code",
   "execution_count": null,
   "id": "c682d245",
   "metadata": {},
   "outputs": [],
   "source": [
    "first(aliases_df, 5)"
   ]
  },
  {
   "cell_type": "markdown",
   "id": "2e217fce",
   "metadata": {},
   "source": [
    "### As we did before, lets identify if any duplicated have appeared"
   ]
  },
  {
   "cell_type": "code",
   "execution_count": null,
   "id": "fa98bac3",
   "metadata": {},
   "outputs": [],
   "source": [
    "new_duplicates = let \n",
    "    old_duplicates = length(aliases_df.vectorized) - length(unique(aliases_df.vectorized))\n",
    "    cur_duplicates = length(aliases_df.filtered) - length(unique(aliases_df.filtered))\n",
    "    cur_duplicates - old_duplicates\n",
    "end"
   ]
  },
  {
   "cell_type": "markdown",
   "id": "42259293",
   "metadata": {},
   "source": [
    "#### 603 duplicates!!"
   ]
  },
  {
   "cell_type": "code",
   "execution_count": null,
   "id": "854b2193",
   "metadata": {},
   "outputs": [],
   "source": [
    "second_aliases = aliases_df |>\n",
    "    @groupby(_.filtered) |>\n",
    "    @filter(x -> length(x) > 1) |>\n",
    "    @map(x -> [y.orig for y in x]) |>\n",
    "    collect"
   ]
  },
  {
   "cell_type": "markdown",
   "id": "7fac8789",
   "metadata": {},
   "source": [
    "## Let's keep going"
   ]
  },
  {
   "cell_type": "code",
   "execution_count": null,
   "id": "e1bbf804",
   "metadata": {},
   "outputs": [],
   "source": [
    "fnames = unique(aliases_df.filtered)"
   ]
  },
  {
   "cell_type": "code",
   "execution_count": null,
   "id": "c664b334",
   "metadata": {},
   "outputs": [],
   "source": [
    "@time begin\n",
    "\n",
    "width = length(fnames)\n",
    "\n",
    "m = zeros(Int64, (width, width))\n",
    "\n",
    "# Symmetric matrix and skip the diagonal\n",
    "# Still 32000000 entries!!!\n",
    "for i in 1:width\n",
    "    for j in (i+1):width\n",
    "        val = counts(fnames[i], fnames[j])\n",
    "        val == 0 && continue # skip array allocation if no overlap\n",
    "        m[i,j] = m[j,i] = val\n",
    "    end\n",
    "end\n",
    "# [counts(a,b) for a in vectorized_names, b in vectorized_names]\n",
    "\n",
    "end"
   ]
  },
  {
   "cell_type": "markdown",
   "id": "3eafec15",
   "metadata": {},
   "source": [
    "## Next lets create some adjacency matrices\n",
    "\n",
    "You get a 1000x speedup by using SparseArrays"
   ]
  },
  {
   "cell_type": "code",
   "execution_count": null,
   "id": "db48c8b8",
   "metadata": {},
   "outputs": [],
   "source": [
    "sm = sparse(m)\n",
    "\n",
    "# Initialize the vector\n",
    "first_ten = repeat([sm], 10)\n",
    "for i in 2:10\n",
    "    first_ten[i] = first_ten[i-1] * sm\n",
    "end"
   ]
  },
  {
   "cell_type": "code",
   "execution_count": null,
   "id": "3add8be0",
   "metadata": {},
   "outputs": [],
   "source": [
    "g = SimpleGraph(sm)"
   ]
  },
  {
   "cell_type": "code",
   "execution_count": null,
   "id": "06d18078",
   "metadata": {
    "scrolled": false
   },
   "outputs": [],
   "source": [
    "function getsubgraph(i, steps; g=g, seq=first_ten)\n",
    "    # non-zero indices in column\n",
    "    indices = Vector{Int}()\n",
    "    for s in 1:steps\n",
    "        v = (seq[s][:,i]).nzind\n",
    "        indices = vcat(indices, v)\n",
    "    end\n",
    "    indices = unique(indices)\n",
    "    \n",
    "    return induced_subgraph(g, indices)\n",
    "end "
   ]
  },
  {
   "cell_type": "code",
   "execution_count": null,
   "id": "bd48928a",
   "metadata": {},
   "outputs": [],
   "source": [
    "subg = getsubgraph(1, 3)"
   ]
  },
  {
   "cell_type": "code",
   "execution_count": null,
   "id": "267c249a",
   "metadata": {},
   "outputs": [],
   "source": [
    "gplot(first(subg))"
   ]
  },
  {
   "cell_type": "code",
   "execution_count": null,
   "id": "f64d227d",
   "metadata": {},
   "outputs": [],
   "source": [
    "df2 = DataFrame(orig = payees_or_projects, vect = vectorized_names)"
   ]
  },
  {
   "cell_type": "code",
   "execution_count": null,
   "id": "c41af489",
   "metadata": {},
   "outputs": [],
   "source": [
    "using SparseArrays"
   ]
  },
  {
   "cell_type": "code",
   "execution_count": null,
   "id": "b2180dca",
   "metadata": {},
   "outputs": [],
   "source": [
    "using LinearAlgebra"
   ]
  },
  {
   "cell_type": "code",
   "execution_count": null,
   "id": "3eca7957",
   "metadata": {},
   "outputs": [],
   "source": [
    "l = [1,2,3]"
   ]
  },
  {
   "cell_type": "code",
   "execution_count": null,
   "id": "9955afb2",
   "metadata": {},
   "outputs": [],
   "source": [
    "push!(l,4)"
   ]
  },
  {
   "cell_type": "code",
   "execution_count": null,
   "id": "8766a634",
   "metadata": {},
   "outputs": [],
   "source": [
    "append!(l,5)"
   ]
  },
  {
   "cell_type": "code",
   "execution_count": null,
   "id": "656d3568",
   "metadata": {},
   "outputs": [],
   "source": [
    "last(l)"
   ]
  },
  {
   "cell_type": "code",
   "execution_count": null,
   "id": "3d90a156",
   "metadata": {},
   "outputs": [],
   "source": [
    "using LightGraphs"
   ]
  },
  {
   "cell_type": "code",
   "execution_count": null,
   "id": "fde1922a",
   "metadata": {},
   "outputs": [],
   "source": [
    "using Compose, GraphPlot"
   ]
  },
  {
   "cell_type": "code",
   "execution_count": null,
   "id": "fb00b66c",
   "metadata": {},
   "outputs": [],
   "source": []
  }
 ],
 "metadata": {
  "kernelspec": {
   "display_name": "Julia 1.6.2",
   "language": "julia",
   "name": "julia-1.6"
  },
  "language_info": {
   "file_extension": ".jl",
   "mimetype": "application/julia",
   "name": "julia",
   "version": "1.6.2"
  }
 },
 "nbformat": 4,
 "nbformat_minor": 5
}
